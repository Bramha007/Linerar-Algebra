{
 "cells": [
  {
   "cell_type": "markdown",
   "metadata": {},
   "source": [
    "<a name='1'></a>\n",
    "## 1 - System of Linear Equations and Corresponding `NumPy` Arrays\n",
    "\n",
    "Matrices can be used to solve systems of equations. But first, you need to represent the system using matrices. Given the following system of linear equations:\n",
    "\n",
    "$$\\begin{cases} \n",
    "2x_1-x_2+x_3+x_4=6, \\\\ x_1+2x_2-x_3-x_4=3, \\\\ -x_1+2x_2+2x_3+2x_4=14, \\\\ x_1-x_2+2x_3+x_4=8, \\end{cases}\\tag{1}$$\n",
    "\n",
    "you will construct matrix $A$, where each row represents one equation in the system and each column represents a variable $x_1$, $x_2$, $x_3$, $x_4$. The free coefficients from the right sides of the equations you will put into vector $b$."
   ]
  },
  {
   "cell_type": "code",
   "execution_count": 1,
   "metadata": {},
   "outputs": [],
   "source": [
    "import numpy as np"
   ]
  },
  {
   "cell_type": "code",
   "execution_count": 25,
   "metadata": {},
   "outputs": [
    {
     "name": "stdout",
     "output_type": "stream",
     "text": [
      "[[ 2. -1.  1.  1.]\n",
      " [ 1.  2. -1. -1.]\n",
      " [-1.  2.  2.  2.]\n",
      " [ 1. -1.  2.  1.]]\n",
      "[ 6.  3. 14.  8.]\n"
     ]
    }
   ],
   "source": [
    "A = np.array([\n",
    "    [2, -1, 1, 1],\n",
    "    [1, 2, -1, -1],\n",
    "    [-1, 2, 2, 2],\n",
    "    [1, -1, 2, 1]\n",
    "    ],dtype=np.dtype(float))\n",
    "\n",
    "b = np.array([6,3,14,8],dtype=np.dtype(float))\n",
    "\n",
    "print(A)\n",
    "print(b)"
   ]
  },
  {
   "cell_type": "markdown",
   "metadata": {},
   "source": [
    "<a name='2'></a>\n",
    "## 2 - Solution for the System of Equations with `NumPy` Linear Algebra Package\n",
    "\n",
    "A system of four linear equations with four unknown variables has a unique solution if and only if the determinant of the corresponding matrix of coefficients is not equal to zero. `NumPy` provides quick and reliable ways to calculate the determinant of a square matrix and also to solve the system of linear equations."
   ]
  },
  {
   "cell_type": "code",
   "execution_count": 26,
   "metadata": {},
   "outputs": [
    {
     "name": "stdout",
     "output_type": "stream",
     "text": [
      "The determinat for the martix is -17.00\n"
     ]
    },
    {
     "data": {
      "text/plain": [
       "array([2., 3., 4., 1.])"
      ]
     },
     "execution_count": 26,
     "metadata": {},
     "output_type": "execute_result"
    }
   ],
   "source": [
    "# Checing the delta for the matrix\n",
    "det = np.linalg.det(A)\n",
    "print('The determinat for the martix is {:.2f}'.format(det))\n",
    "np.linalg.solve(A, b)"
   ]
  },
  {
   "cell_type": "markdown",
   "metadata": {},
   "source": [
    "<a name='3'></a>\n",
    "## 3 - Elementary Operations and Row Reduction\n",
    "\n",
    "Even though the contemporary packages allow to find the solution with one line of the code, performing required algebraic operations manually helps to build foundations which are necessary for deep understanding of the machine learning algorithms. \n",
    "\n",
    "Here you will solve the system of linear equations algebraically using row reduction. It involves combination of the equations using elementary operations, eliminaring as many variables as possible for each equation. There are three valid operations which can be performed to bring the system of equations to equivalent one (with the same solutions):\n",
    "\n",
    "- Multiply any row by non-zero number\n",
    "- Add two rows and exchange one of the original rows with the result of the addition\n",
    "- Swap rows"
   ]
  },
  {
   "cell_type": "code",
   "execution_count": 120,
   "metadata": {},
   "outputs": [
    {
     "name": "stdout",
     "output_type": "stream",
     "text": [
      "[[ 2. -1.  1.  1.  6.]\n",
      " [ 1.  2. -1. -1.  3.]\n",
      " [-1.  2.  2.  2. 14.]\n",
      " [ 1. -1.  2.  1.  8.]]\n",
      "[[ 1.  -0.5  0.5  0.5  3. ]\n",
      " [ 1.   2.  -1.  -1.   3. ]\n",
      " [-1.   2.   2.   2.  14. ]\n",
      " [ 1.  -1.   2.   1.   8. ]]\n",
      "[[ 1.  -0.5  0.5  0.5  3. ]\n",
      " [ 0.   2.5 -1.5 -1.5  0. ]\n",
      " [-1.   2.   2.   2.  14. ]\n",
      " [ 1.  -1.   2.   1.   8. ]]\n",
      "[[ 1.  -0.5  0.5  0.5  3. ]\n",
      " [ 0.   2.5 -1.5 -1.5  0. ]\n",
      " [ 0.   1.5  2.5  2.5 17. ]\n",
      " [ 1.  -1.   2.   1.   8. ]]\n",
      "[[ 1.  -0.5  0.5  0.5  3. ]\n",
      " [ 0.   2.5 -1.5 -1.5  0. ]\n",
      " [ 0.   1.5  2.5  2.5 17. ]\n",
      " [ 0.  -0.5  1.5  0.5  5. ]]\n",
      "[[ 1.  -0.5  0.5  0.5  3. ]\n",
      " [ 0.   1.  -0.6 -0.6  0. ]\n",
      " [ 0.   1.5  2.5  2.5 17. ]\n",
      " [ 0.  -0.5  1.5  0.5  5. ]]\n",
      "[[ 1.  -0.5  0.5  0.5  3. ]\n",
      " [ 0.   1.  -0.6 -0.6  0. ]\n",
      " [ 0.   0.   3.4  3.4 17. ]\n",
      " [ 0.  -0.5  1.5  0.5  5. ]]\n",
      "[[ 1.  -0.5  0.5  0.5  3. ]\n",
      " [ 0.   1.  -0.6 -0.6  0. ]\n",
      " [ 0.   0.   3.4  3.4 17. ]\n",
      " [ 0.   0.   1.2  0.2  5. ]]\n",
      "[[ 1.  -0.5  0.5  0.5  3. ]\n",
      " [ 0.   1.  -0.6 -0.6  0. ]\n",
      " [ 0.   0.   1.   1.   5. ]\n",
      " [ 0.   0.   1.2  0.2  5. ]]\n",
      "[[ 1.  -0.5  0.5  0.5  3. ]\n",
      " [ 0.   1.  -0.6 -0.6  0. ]\n",
      " [ 0.   0.   1.   1.   5. ]\n",
      " [ 0.   0.  -0.  -1.  -1. ]]\n"
     ]
    }
   ],
   "source": [
    "A_new = np.hstack((A,b.reshape(4,1)))\n",
    "print(A_new)\n",
    "\n",
    "# exchange row_num of the matrix M with its multiple by row_num_multiple\n",
    "# Note: for simplicity, you can drop check if  row_num_multiple has non-zero value, which makes the operation valid\n",
    "def MultiplyByNonZero(A, row, scaler):\n",
    "    A_copy = A.copy()\n",
    "    A_copy[row] = A_copy[row] * scaler\n",
    "    print(A_copy)\n",
    "    return A_copy\n",
    "\n",
    "# R1 * 1/2\n",
    "A_new = MultiplyByNonZero(A_new, 0 , 1/2)\n",
    "\n",
    "\n",
    "# multiply row_num_1 by row_num_1_multiple and add it to the row_num_2, \n",
    "# exchanging row_num_2 of the matrix M in the result\n",
    "def AddRows(M, row_num_1, row_num_2, row_num_1_multiple):\n",
    "    M_new = M.copy()\n",
    "    M_new[row_num_2] = row_num_1_multiple * M_new[row_num_1] + M_new[row_num_2]\n",
    "    print(M_new)\n",
    "    return M_new\n",
    "# R2 = R2 - R1\n",
    "A_new = AddRows(A_new, 0, 1, -1)\n",
    "\n",
    "\n",
    "A_new = AddRows(A_new, 0, 2, 1)\n",
    "\n",
    "\n",
    "A_new = AddRows(A_new, 0, 3, -1)\n",
    "\n",
    "\n",
    "A_new = MultiplyByNonZero(A_new, 1, 1/2.5)\n",
    "\n",
    "\n",
    "A_new = AddRows(A_new, 1, 2, -1.5)\n",
    "A_new = AddRows(A_new, 1, 3, .5)\n",
    "\n",
    "\n",
    "A_new = MultiplyByNonZero(A_new, 2, 1/3.4)\n",
    "\n",
    "A_new = AddRows(A_new, 2, 3, -1.2)\n"
   ]
  },
  {
   "cell_type": "code",
   "execution_count": 124,
   "metadata": {},
   "outputs": [
    {
     "name": "stdout",
     "output_type": "stream",
     "text": [
      "3.0 0.0 -1 1\n"
     ]
    }
   ],
   "source": [
    "x4 = 1\n",
    "x3 = 5 - 5 -x4\n",
    "x2 = 0 +.6*x3+.6*x4\n",
    "x1 = 3 +.5*x2 -.5*x3 -.5*x4\n",
    "\n",
    "print(x1, x2, x3, x4)\n"
   ]
  },
  {
   "cell_type": "code",
   "execution_count": 123,
   "metadata": {},
   "outputs": [
    {
     "data": {
      "text/plain": [
       "np.float64(1.0000000000000002)"
      ]
     },
     "execution_count": 123,
     "metadata": {},
     "output_type": "execute_result"
    }
   ],
   "source": [
    "A_new[2,2]"
   ]
  },
  {
   "cell_type": "code",
   "execution_count": 112,
   "metadata": {},
   "outputs": [
    {
     "data": {
      "text/plain": [
       "array([[ 1. , -0.5,  0.5,  0.5,  3. ],\n",
       "       [ 0. ,  2.5, -1.5, -1.5,  0. ],\n",
       "       [ 0. ,  1.5,  2.5,  2.5, 17. ],\n",
       "       [ 1. , -1. ,  2. ,  1. ,  8. ]])"
      ]
     },
     "execution_count": 112,
     "metadata": {},
     "output_type": "execute_result"
    }
   ],
   "source": []
  },
  {
   "cell_type": "code",
   "execution_count": 113,
   "metadata": {},
   "outputs": [
    {
     "data": {
      "text/plain": [
       "array([[ 1. , -0.5,  0.5,  0.5,  3. ],\n",
       "       [ 0. ,  2.5, -1.5, -1.5,  0. ],\n",
       "       [ 0. ,  1.5,  2.5,  2.5, 17. ],\n",
       "       [ 0. , -0.5,  1.5,  0.5,  5. ]])"
      ]
     },
     "execution_count": 113,
     "metadata": {},
     "output_type": "execute_result"
    }
   ],
   "source": []
  },
  {
   "cell_type": "code",
   "execution_count": 114,
   "metadata": {},
   "outputs": [
    {
     "data": {
      "text/plain": [
       "array([[ 1. , -0.5,  0.5,  0.5,  3. ],\n",
       "       [ 0. ,  1. , -0.6, -0.6,  0. ],\n",
       "       [ 0. ,  1.5,  2.5,  2.5, 17. ],\n",
       "       [ 0. , -0.5,  1.5,  0.5,  5. ]])"
      ]
     },
     "execution_count": 114,
     "metadata": {},
     "output_type": "execute_result"
    }
   ],
   "source": []
  },
  {
   "cell_type": "code",
   "execution_count": 115,
   "metadata": {},
   "outputs": [
    {
     "data": {
      "text/plain": [
       "array([[ 1. , -0.5,  0.5,  0.5,  3. ],\n",
       "       [ 0. ,  1. , -0.6, -0.6,  0. ],\n",
       "       [ 0. ,  0.5,  3.1,  3.1, 17. ],\n",
       "       [ 0. , -0.5,  1.5,  0.5,  5. ]])"
      ]
     },
     "execution_count": 115,
     "metadata": {},
     "output_type": "execute_result"
    }
   ],
   "source": []
  },
  {
   "cell_type": "code",
   "execution_count": null,
   "metadata": {},
   "outputs": [],
   "source": []
  }
 ],
 "metadata": {
  "kernelspec": {
   "display_name": "Python 3",
   "language": "python",
   "name": "python3"
  },
  "language_info": {
   "codemirror_mode": {
    "name": "ipython",
    "version": 3
   },
   "file_extension": ".py",
   "mimetype": "text/x-python",
   "name": "python",
   "nbconvert_exporter": "python",
   "pygments_lexer": "ipython3",
   "version": "3.13.0"
  }
 },
 "nbformat": 4,
 "nbformat_minor": 2
}
